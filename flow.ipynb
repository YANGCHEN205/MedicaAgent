{
 "cells": [
  {
   "cell_type": "markdown",
   "metadata": {},
   "source": [
    "# 医疗Agent\n"
   ]
  },
  {
   "cell_type": "markdown",
   "metadata": {},
   "source": [
    "## 主要功能\n",
    "* 智能诊断，医疗对话chatbot, 支持本地知识库，和知识图谱检索\n",
    "* 支持联网搜索，查询医院，医生信息。\n",
    "* 智能预约，发送邮件。\n",
    "* 支持图片识别，音频转文字，文字转音频"
   ]
  },
  {
   "cell_type": "code",
   "execution_count": 1,
   "metadata": {},
   "outputs": [
    {
     "name": "stdout",
     "output_type": "stream",
     "text": [
      "model init finished ......\n"
     ]
    }
   ],
   "source": [
    "from agent.Medical_Knowledgebase_Agent.mka_main import Medical_Knowledgebase_Agent\n",
    "mk_agent = Medical_Knowledgebase_Agent()"
   ]
  },
  {
   "cell_type": "code",
   "execution_count": 2,
   "metadata": {},
   "outputs": [
    {
     "name": "stdout",
     "output_type": "stream",
     "text": [
      "final_answer: text针对腱鞘炎，可以考虑使用以下药品进行治疗：伤痛酊、双氯芬酸二乙胺凝胶、双氯芬酸钠肠溶片、布洛芬缓释混悬液、依托芬那酯凝胶、布洛芬片、复方七叶皂苷钠凝胶、双氯芬酸钠缓释片、布洛芬缓释胶囊、阿西美辛缓释胶囊、酮洛芬凝胶。此外，饮食上可以食用一些有助于缓解症状的食物，如鸡爪、鸡蛋、鸭蛋、鸭翅，推荐的食谱有羊肉煎包、羊肉温补汤、草鱼豆腐等。请在使用任何药物前咨询医生或药师，确保安全有效。\n"
     ]
    }
   ],
   "source": [
    "max_request_time = 6\n",
    "query = '腱鞘炎应该吃什么药品？'\n",
    "final_answer = mk_agent.agent_execute(query, max_request_time=max_request_time,debug=True)\n",
    "print(f\"final_answer: {final_answer}\")"
   ]
  }
 ],
 "metadata": {
  "kernelspec": {
   "display_name": "llm2",
   "language": "python",
   "name": "python3"
  },
  "language_info": {
   "codemirror_mode": {
    "name": "ipython",
    "version": 3
   },
   "file_extension": ".py",
   "mimetype": "text/x-python",
   "name": "python",
   "nbconvert_exporter": "python",
   "pygments_lexer": "ipython3",
   "version": "3.12.3"
  }
 },
 "nbformat": 4,
 "nbformat_minor": 2
}
